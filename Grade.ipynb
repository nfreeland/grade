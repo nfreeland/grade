{
 "cells": [
  {
   "cell_type": "code",
   "execution_count": 11,
   "metadata": {},
   "outputs": [
    {
     "name": "stdout",
     "output_type": "stream",
     "text": [
      "74.0875\n",
      "C+\n"
     ]
    }
   ],
   "source": [
    "import numpy as np\n",
    "Exam1=90\n",
    "Exam2=70\n",
    "Exam3=72\n",
    "Final=0\n",
    "Hw1=(40/40)\n",
    "Hw2=(38.5/40)\n",
    "Hw3=(35/40)\n",
    "Hw4=(35/40)\n",
    "Hw5=(26/40)\n",
    "Hw6=(38/40)\n",
    "Hw7=(37/40)\n",
    "Hw8=(40/40)\n",
    "Exams=[Exam1,Exam2,Exam3]\n",
    "Hws=[Hw1,Hw2,Hw3,Hw4,Hw5,Hw6,Hw7,Hw8]\n",
    "Hws.remove(np.min(Hws))\n",
    "Hws=100*np.array(Hws)\n",
    "if np.min(Exams)>Final:\n",
    "    Final=(Final/2) + (np.min(Exams)/2)\n",
    "Exams.remove(np.min(Exams))\n",
    "Grade=((np.sum(Hws)/7)*.35) + ((np.sum(Exams)/2)*.40) + (Final*.25)\n",
    "print(Grade)\n",
    "\n",
    "if Grade>=90:\n",
    "    print(\"A\")\n",
    "elif Grade>=87:\n",
    "    print(\"-A\")\n",
    "elif Grade>=84:\n",
    "    print(\"+B\")\n",
    "elif Grade>=80:\n",
    "    print(\"B\")\n",
    "elif Grade>=77:\n",
    "    print(\"-B\")\n",
    "elif Grade>=74:\n",
    "    print(\"+C\")\n",
    "elif Grade>=70:\n",
    "    print(\"C\")\n",
    "elif Grade>=67:\n",
    "    print(\"-C\")\n",
    "else:\n",
    "    print('better luck next time')"
   ]
  },
  {
   "cell_type": "code",
   "execution_count": null,
   "metadata": {},
   "outputs": [],
   "source": []
  }
 ],
 "metadata": {
  "kernelspec": {
   "display_name": "Python 3",
   "language": "python",
   "name": "python3"
  },
  "language_info": {
   "codemirror_mode": {
    "name": "ipython",
    "version": 3
   },
   "file_extension": ".py",
   "mimetype": "text/x-python",
   "name": "python",
   "nbconvert_exporter": "python",
   "pygments_lexer": "ipython3",
   "version": "3.8.3"
  }
 },
 "nbformat": 4,
 "nbformat_minor": 4
}
